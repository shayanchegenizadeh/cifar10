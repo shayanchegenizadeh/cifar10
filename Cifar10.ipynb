{
  "nbformat": 4,
  "nbformat_minor": 0,
  "metadata": {
    "kernelspec": {
      "display_name": "Python 3",
      "language": "python",
      "name": "python3"
    },
    "language_info": {
      "codemirror_mode": {
        "name": "ipython",
        "version": 3
      },
      "file_extension": ".py",
      "mimetype": "text/x-python",
      "name": "python",
      "nbconvert_exporter": "python",
      "pygments_lexer": "ipython3",
      "version": "3.8.3"
    },
    "colab": {
      "provenance": [],
      "collapsed_sections": [
        "wJYgCa-NPzdD"
      ]
    },
    "accelerator": "GPU"
  },
  "cells": [
    {
      "cell_type": "markdown",
      "metadata": {
        "id": "DtzR9F5jPzcm"
      },
      "source": [
        "\n",
        "\n",
        "# CIFAR "
      ]
    },
    {
      "cell_type": "code",
      "metadata": {
        "scrolled": true,
        "id": "U0kia5miPzco"
      },
      "source": [
        "from keras.datasets import cifar10\n",
        "import numpy as np\n",
        "import matplotlib.pyplot as plt"
      ],
      "execution_count": 1,
      "outputs": []
    },
    {
      "cell_type": "code",
      "metadata": {
        "id": "eMyKHBRqPzcp",
        "colab": {
          "base_uri": "https://localhost:8080/"
        },
        "outputId": "2f05bff6-c662-4e39-9412-4be255ee34fa"
      },
      "source": [
        "(x_train, y_train), (x_test, y_test) = cifar10.load_data()"
      ],
      "execution_count": 2,
      "outputs": [
        {
          "output_type": "stream",
          "name": "stdout",
          "text": [
            "Downloading data from https://www.cs.toronto.edu/~kriz/cifar-10-python.tar.gz\n",
            "170498071/170498071 [==============================] - 2s 0us/step\n"
          ]
        }
      ]
    },
    {
      "cell_type": "code",
      "metadata": {
        "id": "kfxqMBBkPzcp",
        "colab": {
          "base_uri": "https://localhost:8080/"
        },
        "outputId": "d80eb1cd-979e-44f7-d5f0-28094d20700d"
      },
      "source": [
        "print(x_train.shape)\n",
        "print(y_train.shape)\n",
        "print(x_test.shape)\n",
        "print(y_test.shape)"
      ],
      "execution_count": 3,
      "outputs": [
        {
          "output_type": "stream",
          "name": "stdout",
          "text": [
            "(50000, 32, 32, 3)\n",
            "(50000, 1)\n",
            "(10000, 32, 32, 3)\n",
            "(10000, 1)\n"
          ]
        }
      ]
    },
    {
      "cell_type": "code",
      "metadata": {
        "id": "J5dQiIKYk77b"
      },
      "source": [
        "class_labels = ['airplane', 'automobile', 'bird', 'cat', 'deer', 'dog', 'frog', 'horse', 'ship', 'truck']"
      ],
      "execution_count": 4,
      "outputs": []
    },
    {
      "cell_type": "code",
      "metadata": {
        "id": "7xs_HXhDlHn1"
      },
      "source": [],
      "execution_count": 6,
      "outputs": []
    },
    {
      "cell_type": "code",
      "metadata": {
        "id": "zN7oyH7ePzcq",
        "colab": {
          "base_uri": "https://localhost:8080/",
          "height": 283
        },
        "outputId": "2f22e17b-953c-477e-f81a-3f04b288ee3c"
      },
      "source": [
        "i = 60\n",
        "plt.imshow(x_train[i])\n",
        "label = y_train[i]\n",
        "print(class_labels[label[0]])"
      ],
      "execution_count": 7,
      "outputs": [
        {
          "output_type": "stream",
          "name": "stdout",
          "text": [
            "automobile\n"
          ]
        },
        {
          "output_type": "display_data",
          "data": {
            "text/plain": [
              "<Figure size 432x288 with 1 Axes>"
            ],
            "image/png": "[encoded data removed]"
          },
          "metadata": {
            "needs_background": "light"
          }
        }
      ]
    },
    {
      "cell_type": "markdown",
      "metadata": {
        "id": "1RGJgGEtPzc5"
      },
      "source": [
        "# CNN"
      ]
    },
    {
      "cell_type": "code",
      "metadata": {
        "id": "R5FSe13sPzc7"
      },
      "source": [
        "x_train_final = x_train / 255\n",
        "x_test_final =  x_test / 255"
      ],
      "execution_count": 8,
      "outputs": []
    },
    {
      "cell_type": "code",
      "metadata": {
        "id": "F6_fzaRJPzc8"
      },
      "source": [
        "from keras.utils import to_categorical\n",
        "y_train_cat = to_categorical(y_train)\n",
        "y_test_cat = to_categorical(y_test)"
      ],
      "execution_count": 9,
      "outputs": []
    },
    {
      "cell_type": "code",
      "metadata": {
        "id": "3YamxR8NPzc9"
      },
      "source": [
        "from keras.models import Sequential\n",
        "from keras.layers import Dense, Conv2D, MaxPool2D, Flatten"
      ],
      "execution_count": 10,
      "outputs": []
    },
    {
      "cell_type": "code",
      "metadata": {
        "colab": {
          "base_uri": "https://localhost:8080/"
        },
        "id": "B382baMWqCZ9",
        "outputId": "ff8a0fcb-10f9-415e-d5e2-a402a1ccdc46"
      },
      "source": [
        "x_train.shape[1:]"
      ],
      "execution_count": 11,
      "outputs": [
        {
          "output_type": "execute_result",
          "data": {
            "text/plain": [
              "(32, 32, 3)"
            ]
          },
          "metadata": {},
          "execution_count": 11
        }
      ]
    },
    {
      "cell_type": "code",
      "metadata": {
        "id": "GP8VG3EfPzc_"
      },
      "source": [
        "from keras.models import Sequential\n",
        "from keras.layers import Dense, Flatten, Conv2D, MaxPool2D\n",
        "\n",
        "model = Sequential()\n",
        "model.add(Conv2D(filters = 32, kernel_size = (3,3), activation = 'relu', input_shape = (32,32,3)))\n",
        "model.add(Conv2D(filters = 32, kernel_size = (3,3), activation = 'relu'))\n",
        "model.add(Conv2D(filters = 32, kernel_size = (3,3), activation = 'relu'))\n",
        "model.add(MaxPool2D(pool_size = (2,2)))\n",
        "model.add(Flatten())\n",
        "model.add(Dense(64, activation = 'relu'))\n",
        "model.add(Dense(32, activation = 'relu'))\n",
        "model.add(Dense(10, activation = 'softmax'))\n",
        "\n",
        "model.compile(loss = 'categorical_crossentropy', optimizer = 'adam' , metrics = ['accuracy'])"
      ],
      "execution_count": 12,
      "outputs": []
    },
    {
      "cell_type": "code",
      "metadata": {
        "id": "ytbI_3QdPzdB",
        "colab": {
          "base_uri": "https://localhost:8080/"
        },
        "outputId": "05966179-fbf0-42d1-891e-a2472a914393"
      },
      "source": [
        "model.summary()"
      ],
      "execution_count": 13,
      "outputs": [
        {
          "output_type": "stream",
          "name": "stdout",
          "text": [
            "Model: \"sequential\"\n",
            "_________________________________________________________________\n",
            " Layer (type)                Output Shape              Param #   \n",
            "=================================================================\n",
            " conv2d (Conv2D)             (None, 30, 30, 32)        896       \n",
            "                                                                 \n",
            " conv2d_1 (Conv2D)           (None, 28, 28, 32)        9248      \n",
            "                                                                 \n",
            " conv2d_2 (Conv2D)           (None, 26, 26, 32)        9248      \n",
            "                                                                 \n",
            " max_pooling2d (MaxPooling2D  (None, 13, 13, 32)       0         \n",
            " )                                                               \n",
            "                                                                 \n",
            " flatten (Flatten)           (None, 5408)              0         \n",
            "                                                                 \n",
            " dense (Dense)               (None, 64)                346176    \n",
            "                                                                 \n",
            " dense_1 (Dense)             (None, 32)                2080      \n",
            "                                                                 \n",
            " dense_2 (Dense)             (None, 10)                330       \n",
            "                                                                 \n",
            "=================================================================\n",
            "Total params: 367,978\n",
            "Trainable params: 367,978\n",
            "Non-trainable params: 0\n",
            "_________________________________________________________________\n"
          ]
        }
      ]
    },
    {
      "cell_type": "code",
      "metadata": {
        "id": "zjRUSQBUPzdC",
        "colab": {
          "base_uri": "https://localhost:8080/"
        },
        "outputId": "6bdeba64-5b96-4e49-9c4e-eb5d14401f1b"
      },
      "source": [
        "\n",
        "model.fit(x_train_final, y_train_cat,batch_size = 128,epochs = 30,verbose = 1,validation_data = (x_test_final, y_test_cat))"
      ],
      "execution_count": 14,
      "outputs": [
        {
          "output_type": "stream",
          "name": "stdout",
          "text": [
            "Epoch 1/30\n",
            "391/391 [==============================] - 15s 12ms/step - loss: 1.5578 - accuracy: 0.4280 - val_loss: 1.3021 - val_accuracy: 0.5361\n",
            "Epoch 2/30\n",
            "391/391 [==============================] - 4s 10ms/step - loss: 1.2019 - accuracy: 0.5685 - val_loss: 1.0948 - val_accuracy: 0.6152\n",
            "Epoch 3/30\n",
            "391/391 [==============================] - 4s 9ms/step - loss: 1.0088 - accuracy: 0.6437 - val_loss: 0.9783 - val_accuracy: 0.6561\n",
            "Epoch 4/30\n",
            "391/391 [==============================] - 4s 9ms/step - loss: 0.8965 - accuracy: 0.6850 - val_loss: 1.0072 - val_accuracy: 0.6495\n",
            "Epoch 5/30\n",
            "391/391 [==============================] - 4s 10ms/step - loss: 0.8083 - accuracy: 0.7164 - val_loss: 0.9164 - val_accuracy: 0.6836\n",
            "Epoch 6/30\n",
            "391/391 [==============================] - 4s 9ms/step - loss: 0.7450 - accuracy: 0.7407 - val_loss: 0.9407 - val_accuracy: 0.6797\n",
            "Epoch 7/30\n",
            "391/391 [==============================] - 4s 10ms/step - loss: 0.6835 - accuracy: 0.7602 - val_loss: 0.9408 - val_accuracy: 0.6786\n",
            "Epoch 8/30\n",
            "391/391 [==============================] - 4s 10ms/step - loss: 0.6247 - accuracy: 0.7813 - val_loss: 0.9561 - val_accuracy: 0.6784\n",
            "Epoch 9/30\n",
            "391/391 [==============================] - 4s 9ms/step - loss: 0.5712 - accuracy: 0.8004 - val_loss: 1.0026 - val_accuracy: 0.6740\n",
            "Epoch 10/30\n",
            "391/391 [==============================] - 4s 9ms/step - loss: 0.5162 - accuracy: 0.8196 - val_loss: 1.0433 - val_accuracy: 0.6733\n",
            "Epoch 11/30\n",
            "391/391 [==============================] - 4s 10ms/step - loss: 0.4687 - accuracy: 0.8349 - val_loss: 1.1005 - val_accuracy: 0.6694\n",
            "Epoch 12/30\n",
            "391/391 [==============================] - 4s 9ms/step - loss: 0.4079 - accuracy: 0.8569 - val_loss: 1.1457 - val_accuracy: 0.6773\n",
            "Epoch 13/30\n",
            "391/391 [==============================] - 4s 9ms/step - loss: 0.3556 - accuracy: 0.8755 - val_loss: 1.2919 - val_accuracy: 0.6661\n",
            "Epoch 14/30\n",
            "391/391 [==============================] - 4s 11ms/step - loss: 0.3130 - accuracy: 0.8907 - val_loss: 1.3532 - val_accuracy: 0.6709\n",
            "Epoch 15/30\n",
            "391/391 [==============================] - 4s 9ms/step - loss: 0.2706 - accuracy: 0.9048 - val_loss: 1.4768 - val_accuracy: 0.6659\n",
            "Epoch 16/30\n",
            "391/391 [==============================] - 4s 9ms/step - loss: 0.2353 - accuracy: 0.9164 - val_loss: 1.5248 - val_accuracy: 0.6611\n",
            "Epoch 17/30\n",
            "391/391 [==============================] - 4s 11ms/step - loss: 0.1942 - accuracy: 0.9317 - val_loss: 1.7415 - val_accuracy: 0.6577\n",
            "Epoch 18/30\n",
            "391/391 [==============================] - 4s 10ms/step - loss: 0.1712 - accuracy: 0.9403 - val_loss: 1.7931 - val_accuracy: 0.6507\n",
            "Epoch 19/30\n",
            "391/391 [==============================] - 4s 9ms/step - loss: 0.1482 - accuracy: 0.9471 - val_loss: 2.0321 - val_accuracy: 0.6559\n",
            "Epoch 20/30\n",
            "391/391 [==============================] - 4s 10ms/step - loss: 0.1337 - accuracy: 0.9520 - val_loss: 2.0681 - val_accuracy: 0.6498\n",
            "Epoch 21/30\n",
            "391/391 [==============================] - 4s 10ms/step - loss: 0.1169 - accuracy: 0.9591 - val_loss: 2.2235 - val_accuracy: 0.6440\n",
            "Epoch 22/30\n",
            "391/391 [==============================] - 4s 9ms/step - loss: 0.1128 - accuracy: 0.9609 - val_loss: 2.3199 - val_accuracy: 0.6505\n",
            "Epoch 23/30\n",
            "391/391 [==============================] - 4s 9ms/step - loss: 0.1044 - accuracy: 0.9631 - val_loss: 2.4724 - val_accuracy: 0.6473\n",
            "Epoch 24/30\n",
            "391/391 [==============================] - 4s 10ms/step - loss: 0.0889 - accuracy: 0.9689 - val_loss: 2.5561 - val_accuracy: 0.6479\n",
            "Epoch 25/30\n",
            "391/391 [==============================] - 4s 9ms/step - loss: 0.0810 - accuracy: 0.9715 - val_loss: 2.7491 - val_accuracy: 0.6419\n",
            "Epoch 26/30\n",
            "391/391 [==============================] - 4s 9ms/step - loss: 0.0841 - accuracy: 0.9709 - val_loss: 2.9637 - val_accuracy: 0.6321\n",
            "Epoch 27/30\n",
            "391/391 [==============================] - 4s 10ms/step - loss: 0.0926 - accuracy: 0.9680 - val_loss: 2.8433 - val_accuracy: 0.6382\n",
            "Epoch 28/30\n",
            "391/391 [==============================] - 4s 9ms/step - loss: 0.0816 - accuracy: 0.9717 - val_loss: 2.8610 - val_accuracy: 0.6403\n",
            "Epoch 29/30\n",
            "391/391 [==============================] - 4s 10ms/step - loss: 0.0755 - accuracy: 0.9743 - val_loss: 2.9544 - val_accuracy: 0.6408\n",
            "Epoch 30/30\n",
            "391/391 [==============================] - 4s 11ms/step - loss: 0.0589 - accuracy: 0.9799 - val_loss: 3.1233 - val_accuracy: 0.6420\n"
          ]
        },
        {
          "output_type": "execute_result",
          "data": {
            "text/plain": [
              "<keras.callbacks.History at 0x7f6e1446f2e0>"
            ]
          },
          "metadata": {},
          "execution_count": 14
        }
      ]
    },
    {
      "cell_type": "code",
      "metadata": {
        "id": "euK1VbD4PzdC"
      },
      "source": [],
      "execution_count": 14,
      "outputs": []
    },
    {
      "cell_type": "code",
      "metadata": {
        "id": "Zr6MS5gwukfv"
      },
      "source": [],
      "execution_count": 14,
      "outputs": []
    },
    {
      "cell_type": "markdown",
      "source": [
        "# with drop out"
      ],
      "metadata": {
        "id": "m7506bQBuNEi"
      }
    },
    {
      "cell_type": "code",
      "metadata": {
        "id": "K8XmM3hIPzdH",
        "colab": {
          "base_uri": "https://localhost:8080/"
        },
        "outputId": "9718d46f-9fd0-41a6-8efa-b5aaac1497eb"
      },
      "source": [
        "from keras.models import Sequential\n",
        "from keras.layers import Dense, Conv2D, MaxPool2D, Flatten, Dropout\n",
        "\n",
        "model = Sequential()\n",
        "model.add(Conv2D(filters = 32, kernel_size = (3,3), activation = 'relu', input_shape = (32,32,3)))\n",
        "model.add(Dropout(0.3))\n",
        "model.add(Conv2D(filters = 32, kernel_size = (3,3), activation = 'relu'))\n",
        "model.add(Dropout(0.3))\n",
        "model.add(Conv2D(filters = 32, kernel_size = (3,3), activation = 'relu'))\n",
        "model.add(MaxPool2D(pool_size = (2,2)))\n",
        "model.add(Flatten())\n",
        "model.add(Dense(64, activation = 'relu'))\n",
        "model.add(Dense(32, activation = 'relu'))\n",
        "model.add(Dense(10, activation = 'softmax'))\n",
        "\n",
        "model.compile(loss = 'categorical_crossentropy', optimizer = 'adam' , metrics = ['accuracy'])\n",
        "print(model.count_params())\n",
        "batch_size = 128\n",
        "epochs = 30\n",
        "model.fit(x_train_final, y_train_cat,batch_size = 128,epochs = 30,verbose = 1,validation_data = (x_test_final, y_test_cat))"
      ],
      "execution_count": 15,
      "outputs": [
        {
          "output_type": "stream",
          "name": "stdout",
          "text": [
            "367978\n",
            "Epoch 1/30\n",
            "391/391 [==============================] - 7s 14ms/step - loss: 1.6977 - accuracy: 0.3798 - val_loss: 1.4897 - val_accuracy: 0.4732\n",
            "Epoch 2/30\n",
            "391/391 [==============================] - 5s 13ms/step - loss: 1.3174 - accuracy: 0.5278 - val_loss: 1.2462 - val_accuracy: 0.5591\n",
            "Epoch 3/30\n",
            "391/391 [==============================] - 5s 13ms/step - loss: 1.1837 - accuracy: 0.5781 - val_loss: 1.1459 - val_accuracy: 0.5947\n",
            "Epoch 4/30\n",
            "391/391 [==============================] - 5s 13ms/step - loss: 1.0939 - accuracy: 0.6137 - val_loss: 1.0844 - val_accuracy: 0.6200\n",
            "Epoch 5/30\n",
            "391/391 [==============================] - 5s 13ms/step - loss: 1.0128 - accuracy: 0.6421 - val_loss: 1.0290 - val_accuracy: 0.6371\n",
            "Epoch 6/30\n",
            "391/391 [==============================] - 5s 13ms/step - loss: 0.9527 - accuracy: 0.6640 - val_loss: 0.9683 - val_accuracy: 0.6644\n",
            "Epoch 7/30\n",
            "391/391 [==============================] - 5s 13ms/step - loss: 0.9035 - accuracy: 0.6818 - val_loss: 0.9485 - val_accuracy: 0.6643\n",
            "Epoch 8/30\n",
            "391/391 [==============================] - 5s 13ms/step - loss: 0.8609 - accuracy: 0.6987 - val_loss: 0.9776 - val_accuracy: 0.6554\n",
            "Epoch 9/30\n",
            "391/391 [==============================] - 5s 13ms/step - loss: 0.8251 - accuracy: 0.7104 - val_loss: 0.9117 - val_accuracy: 0.6829\n",
            "Epoch 10/30\n",
            "391/391 [==============================] - 5s 14ms/step - loss: 0.7909 - accuracy: 0.7225 - val_loss: 0.8848 - val_accuracy: 0.6892\n",
            "Epoch 11/30\n",
            "391/391 [==============================] - 5s 13ms/step - loss: 0.7622 - accuracy: 0.7323 - val_loss: 0.9290 - val_accuracy: 0.6731\n",
            "Epoch 12/30\n",
            "391/391 [==============================] - 5s 13ms/step - loss: 0.7446 - accuracy: 0.7385 - val_loss: 0.8678 - val_accuracy: 0.6956\n",
            "Epoch 13/30\n",
            "391/391 [==============================] - 5s 13ms/step - loss: 0.7150 - accuracy: 0.7493 - val_loss: 0.8890 - val_accuracy: 0.6923\n",
            "Epoch 14/30\n",
            "391/391 [==============================] - 5s 13ms/step - loss: 0.6973 - accuracy: 0.7538 - val_loss: 0.8782 - val_accuracy: 0.6954\n",
            "Epoch 15/30\n",
            "391/391 [==============================] - 5s 13ms/step - loss: 0.6738 - accuracy: 0.7640 - val_loss: 0.8643 - val_accuracy: 0.6985\n",
            "Epoch 16/30\n",
            "391/391 [==============================] - 5s 12ms/step - loss: 0.6471 - accuracy: 0.7722 - val_loss: 0.9696 - val_accuracy: 0.6690\n",
            "Epoch 17/30\n",
            "391/391 [==============================] - 5s 13ms/step - loss: 0.6368 - accuracy: 0.7735 - val_loss: 0.8958 - val_accuracy: 0.6946\n",
            "Epoch 18/30\n",
            "391/391 [==============================] - 5s 13ms/step - loss: 0.6170 - accuracy: 0.7828 - val_loss: 0.8968 - val_accuracy: 0.6948\n",
            "Epoch 19/30\n",
            "391/391 [==============================] - 5s 13ms/step - loss: 0.6026 - accuracy: 0.7866 - val_loss: 0.8958 - val_accuracy: 0.6965\n",
            "Epoch 20/30\n",
            "391/391 [==============================] - 5s 13ms/step - loss: 0.5820 - accuracy: 0.7929 - val_loss: 0.9201 - val_accuracy: 0.6878\n",
            "Epoch 21/30\n",
            "391/391 [==============================] - 5s 13ms/step - loss: 0.5747 - accuracy: 0.7954 - val_loss: 0.9470 - val_accuracy: 0.6879\n",
            "Epoch 22/30\n",
            "391/391 [==============================] - 5s 14ms/step - loss: 0.5521 - accuracy: 0.8026 - val_loss: 0.9341 - val_accuracy: 0.6919\n",
            "Epoch 23/30\n",
            "391/391 [==============================] - 5s 12ms/step - loss: 0.5461 - accuracy: 0.8063 - val_loss: 0.9262 - val_accuracy: 0.6951\n",
            "Epoch 24/30\n",
            "391/391 [==============================] - 5s 13ms/step - loss: 0.5268 - accuracy: 0.8139 - val_loss: 0.9609 - val_accuracy: 0.6964\n",
            "Epoch 25/30\n",
            "391/391 [==============================] - 5s 13ms/step - loss: 0.5108 - accuracy: 0.8177 - val_loss: 0.9782 - val_accuracy: 0.6838\n",
            "Epoch 26/30\n",
            "391/391 [==============================] - 5s 13ms/step - loss: 0.5044 - accuracy: 0.8204 - val_loss: 0.9766 - val_accuracy: 0.6893\n",
            "Epoch 27/30\n",
            "391/391 [==============================] - 5s 13ms/step - loss: 0.4968 - accuracy: 0.8216 - val_loss: 0.9540 - val_accuracy: 0.6920\n",
            "Epoch 28/30\n",
            "391/391 [==============================] - 5s 13ms/step - loss: 0.4796 - accuracy: 0.8289 - val_loss: 0.9917 - val_accuracy: 0.6912\n",
            "Epoch 29/30\n",
            "391/391 [==============================] - 5s 13ms/step - loss: 0.4741 - accuracy: 0.8300 - val_loss: 0.9729 - val_accuracy: 0.7004\n",
            "Epoch 30/30\n",
            "391/391 [==============================] - 5s 13ms/step - loss: 0.4605 - accuracy: 0.8343 - val_loss: 0.9866 - val_accuracy: 0.6930\n"
          ]
        },
        {
          "output_type": "execute_result",
          "data": {
            "text/plain": [
              "<keras.callbacks.History at 0x7f6e14060910>"
            ]
          },
          "metadata": {},
          "execution_count": 15
        }
      ]
    },
    {
      "cell_type": "code",
      "metadata": {
        "colab": {
          "base_uri": "https://localhost:8080/"
        },
        "id": "qEkKC-m0vGgc",
        "outputId": "b502d6d9-8da1-4b76-b4e7-d9706ad18212"
      },
      "source": [
        "from keras.models import Sequential\n",
        "from keras.layers import Dense, Conv2D, MaxPool2D, Flatten, Dropout\n",
        "#Feature Detector\n",
        "model = Sequential()\n",
        "#1st block\n",
        "model.add(Conv2D(filters = 32, kernel_size = (3,3), activation = 'relu', input_shape = (32,32,3), padding = 'same', kernel_initializer= 'he_uniform'))\n",
        "model.add(Conv2D(filters = 32, kernel_size = (3,3), activation = 'relu' ,padding = 'same',kernel_initializer= 'he_uniform'))\n",
        "model.add(MaxPool2D())\n",
        "model.add(Dropout(0.2))\n",
        "#padding gosheh ha ahamiyat midahad va andazeh feature map bdon taaghir mimand\n",
        "#2nd block\n",
        "model.add(Conv2D(filters = 64, kernel_size = (3,3), activation = 'relu', padding = 'same' ,kernel_initializer= 'he_uniform'))\n",
        "model.add(Conv2D(filters = 64, kernel_size = (3,3), activation = 'relu' , padding = 'same',kernel_initializer= 'he_uniform'))\n",
        "model.add(MaxPool2D())\n",
        "model.add(Dropout(0.2))\n",
        "#3rd block\n",
        "model.add(Conv2D(filters = 128, kernel_size = (3,3), activation = 'relu',padding = 'same',kernel_initializer= 'he_uniform'))\n",
        "model.add(Conv2D(filters = 128, kernel_size = (3,3), activation = 'relu',padding = 'same',kernel_initializer= 'he_uniform'))\n",
        "model.add(MaxPool2D())\n",
        "model.add(Dropout(0.2))\n",
        "\n",
        "# Fully Connected\n",
        "model.add(Flatten())\n",
        "model.add(Dense(128, activation = 'relu'))\n",
        "model.add(Dense(10, activation = 'softmax',kernel_initializer= 'he_uniform'))\n",
        "\n",
        "model.compile(loss = 'categorical_crossentropy', optimizer = 'adam' , metrics = ['accuracy'])\n",
        "print(model.count_params())\n",
        "batch_size = 128\n",
        "epochs = 30\n",
        "\n",
        "print('Num Params : ', model.count_params())\n",
        "model.fit(x_train_final, y_train_cat,\n",
        "          batch_size = batch_size,\n",
        "          epochs = epochs,\n",
        "          verbose = 1,\n",
        "          validation_data = (x_test_final, y_test_cat))"
      ],
      "execution_count": 16,
      "outputs": [
        {
          "output_type": "stream",
          "name": "stdout",
          "text": [
            "550570\n",
            "Num Params :  550570\n",
            "Epoch 1/30\n",
            "391/391 [==============================] - 11s 18ms/step - loss: 1.7420 - accuracy: 0.3669 - val_loss: 1.5245 - val_accuracy: 0.4730\n",
            "Epoch 2/30\n",
            "391/391 [==============================] - 6s 16ms/step - loss: 1.1933 - accuracy: 0.5711 - val_loss: 1.1326 - val_accuracy: 0.6008\n",
            "Epoch 3/30\n",
            "391/391 [==============================] - 6s 15ms/step - loss: 0.9794 - accuracy: 0.6541 - val_loss: 0.8538 - val_accuracy: 0.7012\n",
            "Epoch 4/30\n",
            "391/391 [==============================] - 7s 17ms/step - loss: 0.8470 - accuracy: 0.7010 - val_loss: 0.7898 - val_accuracy: 0.7226\n",
            "Epoch 5/30\n",
            "391/391 [==============================] - 6s 16ms/step - loss: 0.7490 - accuracy: 0.7379 - val_loss: 0.7335 - val_accuracy: 0.7429\n",
            "Epoch 6/30\n",
            "391/391 [==============================] - 6s 17ms/step - loss: 0.6789 - accuracy: 0.7613 - val_loss: 0.6819 - val_accuracy: 0.7643\n",
            "Epoch 7/30\n",
            "391/391 [==============================] - 6s 15ms/step - loss: 0.6168 - accuracy: 0.7837 - val_loss: 0.6533 - val_accuracy: 0.7797\n",
            "Epoch 8/30\n",
            "391/391 [==============================] - 6s 16ms/step - loss: 0.5688 - accuracy: 0.7994 - val_loss: 0.6427 - val_accuracy: 0.7811\n",
            "Epoch 9/30\n",
            "391/391 [==============================] - 6s 16ms/step - loss: 0.5314 - accuracy: 0.8139 - val_loss: 0.6537 - val_accuracy: 0.7877\n",
            "Epoch 10/30\n",
            "391/391 [==============================] - 7s 17ms/step - loss: 0.4943 - accuracy: 0.8265 - val_loss: 0.6236 - val_accuracy: 0.7934\n",
            "Epoch 11/30\n",
            "391/391 [==============================] - 6s 15ms/step - loss: 0.4590 - accuracy: 0.8378 - val_loss: 0.5892 - val_accuracy: 0.8074\n",
            "Epoch 12/30\n",
            "391/391 [==============================] - 6s 17ms/step - loss: 0.4301 - accuracy: 0.8472 - val_loss: 0.6257 - val_accuracy: 0.7990\n",
            "Epoch 13/30\n",
            "391/391 [==============================] - 6s 15ms/step - loss: 0.4078 - accuracy: 0.8562 - val_loss: 0.5927 - val_accuracy: 0.8077\n",
            "Epoch 14/30\n",
            "391/391 [==============================] - 6s 16ms/step - loss: 0.3811 - accuracy: 0.8653 - val_loss: 0.6066 - val_accuracy: 0.8098\n",
            "Epoch 15/30\n",
            "391/391 [==============================] - 6s 15ms/step - loss: 0.3540 - accuracy: 0.8732 - val_loss: 0.6058 - val_accuracy: 0.8112\n",
            "Epoch 16/30\n",
            "391/391 [==============================] - 6s 16ms/step - loss: 0.3392 - accuracy: 0.8802 - val_loss: 0.6470 - val_accuracy: 0.8029\n",
            "Epoch 17/30\n",
            "391/391 [==============================] - 6s 16ms/step - loss: 0.3210 - accuracy: 0.8852 - val_loss: 0.6475 - val_accuracy: 0.8059\n",
            "Epoch 18/30\n",
            "391/391 [==============================] - 6s 16ms/step - loss: 0.3039 - accuracy: 0.8915 - val_loss: 0.6611 - val_accuracy: 0.7998\n",
            "Epoch 19/30\n",
            "391/391 [==============================] - 6s 16ms/step - loss: 0.2885 - accuracy: 0.8963 - val_loss: 0.6586 - val_accuracy: 0.8083\n",
            "Epoch 20/30\n",
            "391/391 [==============================] - 6s 16ms/step - loss: 0.2740 - accuracy: 0.9014 - val_loss: 0.6806 - val_accuracy: 0.7996\n",
            "Epoch 21/30\n",
            "391/391 [==============================] - 6s 16ms/step - loss: 0.2719 - accuracy: 0.9036 - val_loss: 0.6312 - val_accuracy: 0.8176\n",
            "Epoch 22/30\n",
            "391/391 [==============================] - 6s 16ms/step - loss: 0.2513 - accuracy: 0.9099 - val_loss: 0.6401 - val_accuracy: 0.8147\n",
            "Epoch 23/30\n",
            "391/391 [==============================] - 6s 16ms/step - loss: 0.2414 - accuracy: 0.9148 - val_loss: 0.6596 - val_accuracy: 0.8104\n",
            "Epoch 24/30\n",
            "391/391 [==============================] - 6s 16ms/step - loss: 0.2301 - accuracy: 0.9181 - val_loss: 0.7284 - val_accuracy: 0.8023\n",
            "Epoch 25/30\n",
            "391/391 [==============================] - 6s 16ms/step - loss: 0.2294 - accuracy: 0.9179 - val_loss: 0.6923 - val_accuracy: 0.8104\n",
            "Epoch 26/30\n",
            "391/391 [==============================] - 6s 16ms/step - loss: 0.2190 - accuracy: 0.9223 - val_loss: 0.7006 - val_accuracy: 0.8107\n",
            "Epoch 27/30\n",
            "391/391 [==============================] - 6s 17ms/step - loss: 0.2129 - accuracy: 0.9251 - val_loss: 0.7199 - val_accuracy: 0.8088\n",
            "Epoch 28/30\n",
            "391/391 [==============================] - 6s 15ms/step - loss: 0.2065 - accuracy: 0.9262 - val_loss: 0.6820 - val_accuracy: 0.8179\n",
            "Epoch 29/30\n",
            "391/391 [==============================] - 6s 16ms/step - loss: 0.1990 - accuracy: 0.9280 - val_loss: 0.7336 - val_accuracy: 0.8145\n",
            "Epoch 30/30\n",
            "391/391 [==============================] - 6s 16ms/step - loss: 0.1991 - accuracy: 0.9304 - val_loss: 0.7479 - val_accuracy: 0.8032\n"
          ]
        },
        {
          "output_type": "execute_result",
          "data": {
            "text/plain": [
              "<keras.callbacks.History at 0x7f6e14074250>"
            ]
          },
          "metadata": {},
          "execution_count": 16
        }
      ]
    },
    {
      "cell_type": "code",
      "metadata": {
        "id": "0sk-AKZj5rPb"
      },
      "source": [],
      "execution_count": 16,
      "outputs": []
    }
  ]
}